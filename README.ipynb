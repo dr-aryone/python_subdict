{
 "cells": [
  {
   "cell_type": "markdown",
   "metadata": {},
   "source": [
    "# python_subdict"
   ]
  },
  {
   "cell_type": "markdown",
   "metadata": {},
   "source": [
    "The intent of this library is to make it easy to extract subdicts from python dicts by just specifying which keys are needed, in a dotted-syntax."
   ]
  },
  {
   "cell_type": "markdown",
   "metadata": {},
   "source": [
    "The ipython notebook version of this documentation is [here](https://github.com/victor-o-silva/python_subdict/blob/master/README.ipynb). Please check it there."
   ]
  },
  {
   "cell_type": "markdown",
   "metadata": {},
   "source": [
    "As an example, let's say that we have the following dict:"
   ]
  },
  {
   "cell_type": "code",
   "execution_count": 1,
   "metadata": {
    "collapsed": true
   },
   "outputs": [],
   "source": [
    "d = {\n",
    "    'a': 'A',\n",
    "    'b': 'B',\n",
    "    'c': 'C',\n",
    "    'd': {\n",
    "        'x': 'D_X',\n",
    "        'y': 'D_Y',\n",
    "        'z': {\n",
    "            'I': 'D_Z_I',\n",
    "            'II': {\n",
    "                '1': 'D_Z_II_1',\n",
    "                '2': 'D_Z_II_2'\n",
    "            },\n",
    "            'III': 'D_Z_III'\n",
    "        }\n",
    "    }\n",
    "}"
   ]
  },
  {
   "cell_type": "markdown",
   "metadata": {},
   "source": [
    "If we need only the keys `'a'` and `'d'`, we can do this:"
   ]
  },
  {
   "cell_type": "code",
   "execution_count": 2,
   "metadata": {
    "collapsed": true
   },
   "outputs": [],
   "source": [
    "from extract_subdict import extract_subdict  # The main function of the library"
   ]
  },
  {
   "cell_type": "code",
   "execution_count": 3,
   "metadata": {
    "collapsed": true
   },
   "outputs": [],
   "source": [
    "from pprint import pprint  # Just for a nice presentation here"
   ]
  },
  {
   "cell_type": "code",
   "execution_count": 4,
   "metadata": {
    "collapsed": false
   },
   "outputs": [
    {
     "name": "stdout",
     "output_type": "stream",
     "text": [
      "{'a': 'A',\n",
      " 'd': {'x': 'D_X',\n",
      "       'y': 'D_Y',\n",
      "       'z': {'I': 'D_Z_I',\n",
      "             'II': {'1': 'D_Z_II_1', '2': 'D_Z_II_2'},\n",
      "             'III': 'D_Z_III'}}}\n"
     ]
    }
   ],
   "source": [
    "pprint( extract_subdict(d, ['a', 'd']) )"
   ]
  },
  {
   "cell_type": "markdown",
   "metadata": {},
   "source": [
    "We can also specify 'subkeys' by using a dotted-syntax:"
   ]
  },
  {
   "cell_type": "code",
   "execution_count": 5,
   "metadata": {
    "collapsed": false,
    "scrolled": true
   },
   "outputs": [
    {
     "name": "stdout",
     "output_type": "stream",
     "text": [
      "{'a': 'A',\n",
      " 'd': {'x': 'D_X',\n",
      "       'z': {'I': 'D_Z_I',\n",
      "             'II': {'1': 'D_Z_II_1', '2': 'D_Z_II_2'},\n",
      "             'III': 'D_Z_III'}}}\n"
     ]
    }
   ],
   "source": [
    "pprint( extract_subdict(d, ['a', 'd.x', 'd.z']) )"
   ]
  },
  {
   "cell_type": "markdown",
   "metadata": {},
   "source": [
    "The dotted-syntax can have any needed level of depth:"
   ]
  },
  {
   "cell_type": "code",
   "execution_count": 6,
   "metadata": {
    "collapsed": false
   },
   "outputs": [
    {
     "name": "stdout",
     "output_type": "stream",
     "text": [
      "{'a': 'A', 'd': {'z': {'II': {'1': 'D_Z_II_1'}}}}\n"
     ]
    }
   ],
   "source": [
    "pprint( extract_subdict(d, ['a', 'd.z.II.1']) )"
   ]
  },
  {
   "cell_type": "markdown",
   "metadata": {},
   "source": [
    "# Specifying invalid keys behavior"
   ]
  },
  {
   "cell_type": "markdown",
   "metadata": {},
   "source": [
    "Let's consider the following dict from now:"
   ]
  },
  {
   "cell_type": "code",
   "execution_count": 7,
   "metadata": {
    "collapsed": true
   },
   "outputs": [],
   "source": [
    "person = {\n",
    "    'name': 'John Frusciante',\n",
    "    'birth': '1970-03-05',\n",
    "    'city': {\n",
    "        'name': 'New York City',\n",
    "        'state': {'name': 'New York', 'country': 'USA'}\n",
    "    },\n",
    "    'albums': [\n",
    "        {\n",
    "            'year': 2001,\n",
    "            'name': 'To Record Only Water For Ten Days',\n",
    "            'label': {\n",
    "                'name': 'Warner Bros Records',\n",
    "                'link': 'https://en.wikipedia.org/wiki/Warner_Bros._Records'\n",
    "            }\n",
    "        },\n",
    "        {\n",
    "            'year': 2004,\n",
    "            'name': 'Shadows Collide With People',\n",
    "            'label': {\n",
    "                'name': 'Warner Bros Records',\n",
    "                'link': 'https://en.wikipedia.org/wiki/Warner_Bros._Records'\n",
    "            }\n",
    "        },\n",
    "        {\n",
    "            'year': 2009,\n",
    "            'name': 'The Empyrean',\n",
    "            'label': {\n",
    "                'name': 'Record Collection',\n",
    "                'link': 'https://en.wikipedia.org/wiki/Record_Collection'\n",
    "            }\n",
    "        }\n",
    "    ]\n",
    "}"
   ]
  },
  {
   "cell_type": "markdown",
   "metadata": {},
   "source": [
    "By default, invalid keys passed to the `extract_subdict` function are ignored:"
   ]
  },
  {
   "cell_type": "code",
   "execution_count": 8,
   "metadata": {
    "collapsed": false
   },
   "outputs": [
    {
     "data": {
      "text/plain": [
       "{'birth': '1970-03-05', 'name': 'John Frusciante'}"
      ]
     },
     "execution_count": 8,
     "metadata": {},
     "output_type": "execute_result"
    }
   ],
   "source": [
    "extract_subdict(person, ['name', 'birth', 'hair_color'])  # 'hair_color' is not present in the `person` dict"
   ]
  },
  {
   "cell_type": "markdown",
   "metadata": {},
   "source": [
    "However, by passing `True` to the `strict` parameter of the function, invalid keys will raise a `KeyError` exception:"
   ]
  },
  {
   "cell_type": "code",
   "execution_count": 9,
   "metadata": {
    "collapsed": false
   },
   "outputs": [
    {
     "ename": "KeyError",
     "evalue": "'hair_color'",
     "output_type": "error",
     "traceback": [
      "\u001b[1;31m---------------------------------------------------------------------------\u001b[0m",
      "\u001b[1;31mKeyError\u001b[0m                                  Traceback (most recent call last)",
      "\u001b[1;32m<ipython-input-9-d854ccf3d6ff>\u001b[0m in \u001b[0;36m<module>\u001b[1;34m()\u001b[0m\n\u001b[1;32m----> 1\u001b[1;33m \u001b[0mextract_subdict\u001b[0m\u001b[1;33m(\u001b[0m\u001b[0mperson\u001b[0m\u001b[1;33m,\u001b[0m \u001b[1;33m[\u001b[0m\u001b[1;34m'name'\u001b[0m\u001b[1;33m,\u001b[0m \u001b[1;34m'birth'\u001b[0m\u001b[1;33m,\u001b[0m \u001b[1;34m'hair_color'\u001b[0m\u001b[1;33m]\u001b[0m\u001b[1;33m,\u001b[0m \u001b[0mstrict\u001b[0m\u001b[1;33m=\u001b[0m\u001b[0mTrue\u001b[0m\u001b[1;33m)\u001b[0m\u001b[1;33m\u001b[0m\u001b[0m\n\u001b[0m",
      "\u001b[1;32m/home/victor/code/python_subdict/extract_subdict.pyc\u001b[0m in \u001b[0;36mextract_subdict\u001b[1;34m(dictionary, keys, strict)\u001b[0m\n\u001b[0;32m    135\u001b[0m         \u001b[1;32melse\u001b[0m\u001b[1;33m:\u001b[0m\u001b[1;33m\u001b[0m\u001b[0m\n\u001b[0;32m    136\u001b[0m             \u001b[1;32mif\u001b[0m \u001b[0mstrict\u001b[0m\u001b[1;33m:\u001b[0m\u001b[1;33m\u001b[0m\u001b[0m\n\u001b[1;32m--> 137\u001b[1;33m                 \u001b[1;32mraise\u001b[0m \u001b[0mKeyError\u001b[0m\u001b[1;33m(\u001b[0m\u001b[0mdotted_key\u001b[0m\u001b[1;33m)\u001b[0m\u001b[1;33m\u001b[0m\u001b[0m\n\u001b[0m\u001b[0;32m    138\u001b[0m \u001b[1;33m\u001b[0m\u001b[0m\n\u001b[0;32m    139\u001b[0m     \u001b[1;32mreturn\u001b[0m \u001b[0m_dict\u001b[0m\u001b[1;33m\u001b[0m\u001b[0m\n",
      "\u001b[1;31mKeyError\u001b[0m: 'hair_color'"
     ]
    }
   ],
   "source": [
    "extract_subdict(person, ['name', 'birth', 'hair_color'], strict=True)"
   ]
  },
  {
   "cell_type": "markdown",
   "metadata": {},
   "source": [
    "# Successive extractions"
   ]
  },
  {
   "cell_type": "markdown",
   "metadata": {},
   "source": [
    "Extracting only `'name'` and `'albums'` from the `person` dict:"
   ]
  },
  {
   "cell_type": "code",
   "execution_count": 10,
   "metadata": {
    "collapsed": true
   },
   "outputs": [],
   "source": [
    "subdict = extract_subdict(person, ['name', 'albums'])"
   ]
  },
  {
   "cell_type": "code",
   "execution_count": 11,
   "metadata": {
    "collapsed": false,
    "scrolled": false
   },
   "outputs": [
    {
     "name": "stdout",
     "output_type": "stream",
     "text": [
      "{'albums': [{'label': {'link': 'https://en.wikipedia.org/wiki/Warner_Bros._Records',\n",
      "                       'name': 'Warner Bros Records'},\n",
      "             'name': 'To Record Only Water For Ten Days',\n",
      "             'year': 2001},\n",
      "            {'label': {'link': 'https://en.wikipedia.org/wiki/Warner_Bros._Records',\n",
      "                       'name': 'Warner Bros Records'},\n",
      "             'name': 'Shadows Collide With People',\n",
      "             'year': 2004},\n",
      "            {'label': {'link': 'https://en.wikipedia.org/wiki/Record_Collection',\n",
      "                       'name': 'Record Collection'},\n",
      "             'name': 'The Empyrean',\n",
      "             'year': 2009}],\n",
      " 'name': 'John Frusciante'}\n"
     ]
    }
   ],
   "source": [
    "pprint(subdict)"
   ]
  },
  {
   "cell_type": "markdown",
   "metadata": {},
   "source": [
    "Extracting only the `'name'` of each album:"
   ]
  },
  {
   "cell_type": "code",
   "execution_count": 18,
   "metadata": {
    "collapsed": false
   },
   "outputs": [],
   "source": [
    "for index in range(len(subdict['albums'])):\n",
    "    subdict['albums'][index] = extract_subdict(subdict['albums'][index], ['name'])"
   ]
  },
  {
   "cell_type": "code",
   "execution_count": 19,
   "metadata": {
    "collapsed": false
   },
   "outputs": [
    {
     "name": "stdout",
     "output_type": "stream",
     "text": [
      "{'albums': [{'name': 'To Record Only Water For Ten Days'},\n",
      "            {'name': 'Shadows Collide With People'},\n",
      "            {'name': 'The Empyrean'}],\n",
      " 'name': 'John Frusciante'}\n"
     ]
    }
   ],
   "source": [
    "pprint(subdict)"
   ]
  }
 ],
 "metadata": {
  "kernelspec": {
   "display_name": "Python 2",
   "language": "python",
   "name": "python2"
  },
  "language_info": {
   "codemirror_mode": {
    "name": "ipython",
    "version": 2
   },
   "file_extension": ".py",
   "mimetype": "text/x-python",
   "name": "python",
   "nbconvert_exporter": "python",
   "pygments_lexer": "ipython2",
   "version": "2.7.9"
  }
 },
 "nbformat": 4,
 "nbformat_minor": 0
}
